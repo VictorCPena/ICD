{
 "cells": [
  {
   "cell_type": "markdown",
   "id": "16aea112",
   "metadata": {},
   "source": [
    "##### Importando as Bibliotecas"
   ]
  },
  {
   "cell_type": "code",
   "execution_count": 1,
   "id": "5db706c4",
   "metadata": {},
   "outputs": [],
   "source": [
    "from selenium import webdriver\n",
    "from selenium.webdriver.common.by import By\n",
    "import pandas as pd\n",
    "import time\n",
    "import re\n",
    "import warnings"
   ]
  },
  {
   "cell_type": "markdown",
   "id": "b9dca37d",
   "metadata": {},
   "source": [
    "##### Criando alguns filtros de Warning"
   ]
  },
  {
   "cell_type": "code",
   "execution_count": 2,
   "id": "832df1c3",
   "metadata": {},
   "outputs": [],
   "source": [
    "warnings.filterwarnings(\"ignore\", category=DeprecationWarning)\n",
    "warnings.filterwarnings(\"ignore\", category=FutureWarning)"
   ]
  },
  {
   "cell_type": "markdown",
   "id": "fd0a0b7a",
   "metadata": {},
   "source": [
    "##### Importando o Driver do Navegador"
   ]
  },
  {
   "cell_type": "code",
   "execution_count": 3,
   "id": "ad7ea9bc",
   "metadata": {},
   "outputs": [],
   "source": [
    "edge_path = 'edgedriver_win64/msedgedriver.exe'"
   ]
  },
  {
   "cell_type": "markdown",
   "id": "dd4bad38",
   "metadata": {},
   "source": [
    "##### Coletando dados do Campeonato Brasileiro em diferentes séries e anos"
   ]
  },
  {
   "cell_type": "code",
   "execution_count": 4,
   "id": "56b384ef",
   "metadata": {},
   "outputs": [],
   "source": [
    "driver = webdriver.Edge(executable_path=edge_path)\n",
    "\n",
    "series = ['a', 'b']\n",
    "\n",
    "anos = range(2012, 2024)\n",
    "\n",
    "dfs = []\n",
    "\n",
    "for serie in series:\n",
    "    for ano in anos:\n",
    "        url = f'https://www.cbf.com.br/futebol-brasileiro/competicoes/campeonato-brasileiro-serie-{serie}/{ano}'\n",
    "\n",
    "        driver.get(url)\n",
    "\n",
    "        time.sleep(2)\n",
    "\n",
    "        table = driver.find_element(By.CSS_SELECTOR, 'table.table.m-b-20.tabela-expandir')\n",
    "\n",
    "        df = pd.read_html(table.get_attribute('outerHTML'))[0]\n",
    "\n",
    "        df['Ano'] = ano\n",
    "        df['Serie'] = serie.upper()\n",
    "\n",
    "        dfs.append(df)\n",
    "driver.quit()"
   ]
  },
  {
   "cell_type": "markdown",
   "id": "3f9ffbe4",
   "metadata": {},
   "source": [
    "Esse código é utilizado para coletar dados de tabelas do site do campeonato brasileiro de futebol. Ele percorre as séries e anos definidos, acessa as páginas web correspondentes, aguarda 2 segundos para garantir que a página esteja completamente carregada, encontra a tabela de dados na página, lê o conteúdo da tabela, adiciona informações como o ano e a série aos dados coletados e armazena tudo em dois Dataframes(Série A e Série B)."
   ]
  },
  {
   "cell_type": "markdown",
   "id": "922d181d",
   "metadata": {},
   "source": [
    "##### Juntando os Dois DataFrames"
   ]
  },
  {
   "cell_type": "code",
   "execution_count": 5,
   "id": "e111a261",
   "metadata": {},
   "outputs": [
    {
     "name": "stdout",
     "output_type": "stream",
     "text": [
      "                        Posição PTS   J   V   E   D  GP  GC  SG   CA  CV   %  \\\n",
      "0            1º Fluminense - RJ  77  38  22  11   5  61  33  28   85   3  67   \n",
      "1              2º Atlético - MG  72  38  20  12   6  64  37  27  104  10  63   \n",
      "2                3º Grêmio - RS  71  38  20  11   7  56  33  23  102   9  62   \n",
      "3             4º São Paulo - SP  66  38  20   6  12  59  37  22   93   6  57   \n",
      "4         5º Vasco da Gama - RJ  58  38  16  10  12  45  44   1   91   3  50   \n",
      "..                          ...  ..  ..  ..  ..  ..  ..  ..  ..  ...  ..  ..   \n",
      "481  16º -3 Sampaio Corrêa - MA   5   6   1   2   3   6  10  -4   21   2  27   \n",
      "482     17º -3 Ponte Preta - SP   5   6   1   2   3   4   9  -5   20   4  27   \n",
      "483        18º -3 Tombense - MG   4   6   1   1   4   6   9  -3   14   1  22   \n",
      "484       19º -1 Juventude - RS   3   6   1   0   5   3   7  -4   21   1  16   \n",
      "485              20º 0 Abc - RN   1   6   0   1   5   3  12  -9   14   1   5   \n",
      "\n",
      "      Ano Serie Recentes Próx  \n",
      "0    2012     A      NaN  NaN  \n",
      "1    2012     A      NaN  NaN  \n",
      "2    2012     A      NaN  NaN  \n",
      "3    2012     A      NaN  NaN  \n",
      "4    2012     A      NaN  NaN  \n",
      "..    ...   ...      ...  ...  \n",
      "481  2023     B    E V D  NaN  \n",
      "482  2023     B    V E D  NaN  \n",
      "483  2023     B    D D D  NaN  \n",
      "484  2023     B    V D D  NaN  \n",
      "485  2023     B    D E D  NaN  \n",
      "\n",
      "[486 rows x 16 columns]\n"
     ]
    }
   ],
   "source": [
    "df = pd.concat(dfs, ignore_index=True)\n",
    "print(df)"
   ]
  },
  {
   "cell_type": "markdown",
   "id": "775fa997",
   "metadata": {},
   "source": [
    "##### Ajustando o Dataframe"
   ]
  },
  {
   "cell_type": "code",
   "execution_count": 6,
   "id": "d2dd4a05",
   "metadata": {},
   "outputs": [
    {
     "name": "stdout",
     "output_type": "stream",
     "text": [
      "                        Posição PTS   J   V   E   D  GP  GC  SG   CA  CV   %  \\\n",
      "0            1º Fluminense - RJ  77  38  22  11   5  61  33  28   85   3  67   \n",
      "1              2º Atlético - MG  72  38  20  12   6  64  37  27  104  10  63   \n",
      "2                3º Grêmio - RS  71  38  20  11   7  56  33  23  102   9  62   \n",
      "3             4º São Paulo - SP  66  38  20   6  12  59  37  22   93   6  57   \n",
      "4         5º Vasco da Gama - RJ  58  38  16  10  12  45  44   1   91   3  50   \n",
      "..                          ...  ..  ..  ..  ..  ..  ..  ..  ..  ...  ..  ..   \n",
      "481  16º -3 Sampaio Corrêa - MA   5   6   1   2   3   6  10  -4   21   2  27   \n",
      "482     17º -3 Ponte Preta - SP   5   6   1   2   3   4   9  -5   20   4  27   \n",
      "483        18º -3 Tombense - MG   4   6   1   1   4   6   9  -3   14   1  22   \n",
      "484       19º -1 Juventude - RS   3   6   1   0   5   3   7  -4   21   1  16   \n",
      "485              20º 0 Abc - RN   1   6   0   1   5   3  12  -9   14   1   5   \n",
      "\n",
      "      Ano Serie Recentes Próx  \n",
      "0    2012     A      NaN  NaN  \n",
      "1    2012     A      NaN  NaN  \n",
      "2    2012     A      NaN  NaN  \n",
      "3    2012     A      NaN  NaN  \n",
      "4    2012     A      NaN  NaN  \n",
      "..    ...   ...      ...  ...  \n",
      "481  2023     B    E V D  NaN  \n",
      "482  2023     B    V E D  NaN  \n",
      "483  2023     B    D D D  NaN  \n",
      "484  2023     B    V D D  NaN  \n",
      "485  2023     B    D E D  NaN  \n",
      "\n",
      "[480 rows x 16 columns]\n"
     ]
    }
   ],
   "source": [
    "df = df[~df.astype(str).apply(lambda x: x.str.contains('Observações')).any(axis=1)]\n",
    "print(df)"
   ]
  },
  {
   "cell_type": "code",
   "execution_count": 7,
   "id": "2625316c",
   "metadata": {},
   "outputs": [
    {
     "name": "stdout",
     "output_type": "stream",
     "text": [
      "    Posição PTS   J   V   E   D  GP  GC  SG   CA  CV   %   Ano Serie Recentes  \\\n",
      "0        1º  77  38  22  11   5  61  33  28   85   3  67  2012     A      NaN   \n",
      "1        2º  72  38  20  12   6  64  37  27  104  10  63  2012     A      NaN   \n",
      "2        3º  71  38  20  11   7  56  33  23  102   9  62  2012     A      NaN   \n",
      "3        4º  66  38  20   6  12  59  37  22   93   6  57  2012     A      NaN   \n",
      "4        5º  58  38  16  10  12  45  44   1   91   3  50  2012     A      NaN   \n",
      "..      ...  ..  ..  ..  ..  ..  ..  ..  ..  ...  ..  ..   ...   ...      ...   \n",
      "481     16º   5   6   1   2   3   6  10  -4   21   2  27  2023     B    E V D   \n",
      "482     17º   5   6   1   2   3   4   9  -5   20   4  27  2023     B    V E D   \n",
      "483     18º   4   6   1   1   4   6   9  -3   14   1  22  2023     B    D D D   \n",
      "484     19º   3   6   1   0   5   3   7  -4   21   1  16  2023     B    V D D   \n",
      "485     20º   1   6   0   1   5   3  12  -9   14   1   5  2023     B    D E D   \n",
      "\n",
      "    Próx                    Time  \n",
      "0    NaN         Fluminense - RJ  \n",
      "1    NaN           Atlético - MG  \n",
      "2    NaN             Grêmio - RS  \n",
      "3    NaN          São Paulo - SP  \n",
      "4    NaN      Vasco da Gama - RJ  \n",
      "..   ...                     ...  \n",
      "481  NaN  -3 Sampaio Corrêa - MA  \n",
      "482  NaN     -3 Ponte Preta - SP  \n",
      "483  NaN        -3 Tombense - MG  \n",
      "484  NaN       -1 Juventude - RS  \n",
      "485  NaN              0 Abc - RN  \n",
      "\n",
      "[480 rows x 17 columns]\n"
     ]
    }
   ],
   "source": [
    "df[['Posição', 'Time']] = df['Posição'].str.split(' ', 1, expand=True)\n",
    "print(df)"
   ]
  },
  {
   "cell_type": "markdown",
   "id": "e2eaf95d",
   "metadata": {},
   "source": [
    "* o DataFrame tinha algumas linhas com Observações, então retiramos essas linhas.\n",
    "* a Coluna de Posição guardava também o nome dos Times, então separamos em duas colunas."
   ]
  },
  {
   "cell_type": "markdown",
   "id": "2166c244",
   "metadata": {},
   "source": [
    "Remoção de Números e Limpeza de Espaços em Branco na Coluna \"Time\""
   ]
  },
  {
   "cell_type": "code",
   "execution_count": 8,
   "id": "e5d47cc4",
   "metadata": {},
   "outputs": [],
   "source": [
    "def remove_numeros(texto):\n",
    "    return re.sub(r'^[-+]?[0-9]+\\.?[0-9]*', '', texto).strip()\n",
    "df['Time'] = df['Time'].apply(remove_numeros)"
   ]
  },
  {
   "cell_type": "code",
   "execution_count": 9,
   "id": "66acddbf",
   "metadata": {},
   "outputs": [
    {
     "name": "stdout",
     "output_type": "stream",
     "text": [
      "    Posição PTS   J   V   E   D  GP  GC  SG   CA  CV   %   Ano Serie Recentes  \\\n",
      "0        1º  77  38  22  11   5  61  33  28   85   3  67  2012     A      NaN   \n",
      "1        2º  72  38  20  12   6  64  37  27  104  10  63  2012     A      NaN   \n",
      "2        3º  71  38  20  11   7  56  33  23  102   9  62  2012     A      NaN   \n",
      "3        4º  66  38  20   6  12  59  37  22   93   6  57  2012     A      NaN   \n",
      "4        5º  58  38  16  10  12  45  44   1   91   3  50  2012     A      NaN   \n",
      "..      ...  ..  ..  ..  ..  ..  ..  ..  ..  ...  ..  ..   ...   ...      ...   \n",
      "481     16º   5   6   1   2   3   6  10  -4   21   2  27  2023     B    E V D   \n",
      "482     17º   5   6   1   2   3   4   9  -5   20   4  27  2023     B    V E D   \n",
      "483     18º   4   6   1   1   4   6   9  -3   14   1  22  2023     B    D D D   \n",
      "484     19º   3   6   1   0   5   3   7  -4   21   1  16  2023     B    V D D   \n",
      "485     20º   1   6   0   1   5   3  12  -9   14   1   5  2023     B    D E D   \n",
      "\n",
      "    Próx                 Time  \n",
      "0    NaN      Fluminense - RJ  \n",
      "1    NaN        Atlético - MG  \n",
      "2    NaN          Grêmio - RS  \n",
      "3    NaN       São Paulo - SP  \n",
      "4    NaN   Vasco da Gama - RJ  \n",
      "..   ...                  ...  \n",
      "481  NaN  Sampaio Corrêa - MA  \n",
      "482  NaN     Ponte Preta - SP  \n",
      "483  NaN        Tombense - MG  \n",
      "484  NaN       Juventude - RS  \n",
      "485  NaN             Abc - RN  \n",
      "\n",
      "[480 rows x 17 columns]\n"
     ]
    }
   ],
   "source": [
    "print(df)"
   ]
  },
  {
   "cell_type": "markdown",
   "id": "942c329d",
   "metadata": {},
   "source": [
    "##### Excluindo Colunas Inúteis "
   ]
  },
  {
   "cell_type": "code",
   "execution_count": 10,
   "id": "21249266",
   "metadata": {},
   "outputs": [
    {
     "name": "stdout",
     "output_type": "stream",
     "text": [
      "    Posição PTS   J   V   E   D  GP  GC  SG   CA  CV   %   Ano Serie  \\\n",
      "0        1º  77  38  22  11   5  61  33  28   85   3  67  2012     A   \n",
      "1        2º  72  38  20  12   6  64  37  27  104  10  63  2012     A   \n",
      "2        3º  71  38  20  11   7  56  33  23  102   9  62  2012     A   \n",
      "3        4º  66  38  20   6  12  59  37  22   93   6  57  2012     A   \n",
      "4        5º  58  38  16  10  12  45  44   1   91   3  50  2012     A   \n",
      "..      ...  ..  ..  ..  ..  ..  ..  ..  ..  ...  ..  ..   ...   ...   \n",
      "481     16º   5   6   1   2   3   6  10  -4   21   2  27  2023     B   \n",
      "482     17º   5   6   1   2   3   4   9  -5   20   4  27  2023     B   \n",
      "483     18º   4   6   1   1   4   6   9  -3   14   1  22  2023     B   \n",
      "484     19º   3   6   1   0   5   3   7  -4   21   1  16  2023     B   \n",
      "485     20º   1   6   0   1   5   3  12  -9   14   1   5  2023     B   \n",
      "\n",
      "                    Time  \n",
      "0        Fluminense - RJ  \n",
      "1          Atlético - MG  \n",
      "2            Grêmio - RS  \n",
      "3         São Paulo - SP  \n",
      "4     Vasco da Gama - RJ  \n",
      "..                   ...  \n",
      "481  Sampaio Corrêa - MA  \n",
      "482     Ponte Preta - SP  \n",
      "483        Tombense - MG  \n",
      "484       Juventude - RS  \n",
      "485             Abc - RN  \n",
      "\n",
      "[480 rows x 15 columns]\n"
     ]
    }
   ],
   "source": [
    "df=df.drop(['Recentes', 'Próx'], axis=1)\n",
    "print(df)"
   ]
  },
  {
   "cell_type": "markdown",
   "id": "e2fe3494",
   "metadata": {},
   "source": [
    "##### Setando o DataFrame"
   ]
  },
  {
   "cell_type": "code",
   "execution_count": 11,
   "id": "0bb668c1",
   "metadata": {},
   "outputs": [],
   "source": [
    "df[\"Time\"] = df[\"Time\"].replace('Atlético Paranaense - PR', 'Athletico Paranaense - PR')\n",
    "df[\"Time\"] = df[\"Time\"].replace('Atlético - MG', 'Atlético Mineiro - MG')\n",
    "df[\"Time\"] = df[\"Time\"].replace('Bragantino - SP', 'Red Bull Bragantino - SP')"
   ]
  },
  {
   "cell_type": "markdown",
   "id": "65060747",
   "metadata": {},
   "source": [
    "##### Extraindo o Estado de Cada Time"
   ]
  },
  {
   "cell_type": "code",
   "execution_count": 12,
   "id": "37ad23de",
   "metadata": {},
   "outputs": [],
   "source": [
    "df['Estado'] = df['Time'].str.extract(r'-(\\s*[A-Z]{2})$')\n",
    "df['Time'] = df['Time'].str.replace(r'\\s*-\\s*[A-Z]{2}$', '', regex=True)\n",
    "df['Time'] = df['Time'].str.replace(' Saf$', '')\n",
    "df['Time'] = df['Time'].str.replace(' S.a.f.$', '')\n",
    "df['Time'] = df['Time'].str.strip()"
   ]
  },
  {
   "cell_type": "code",
   "execution_count": 13,
   "id": "388784f9",
   "metadata": {},
   "outputs": [
    {
     "name": "stdout",
     "output_type": "stream",
     "text": [
      "    Posição PTS   J   V   E   D  GP  GC  SG   CA  CV   %   Ano Serie  \\\n",
      "0        1º  77  38  22  11   5  61  33  28   85   3  67  2012     A   \n",
      "1        2º  72  38  20  12   6  64  37  27  104  10  63  2012     A   \n",
      "2        3º  71  38  20  11   7  56  33  23  102   9  62  2012     A   \n",
      "3        4º  66  38  20   6  12  59  37  22   93   6  57  2012     A   \n",
      "4        5º  58  38  16  10  12  45  44   1   91   3  50  2012     A   \n",
      "..      ...  ..  ..  ..  ..  ..  ..  ..  ..  ...  ..  ..   ...   ...   \n",
      "481     16º   5   6   1   2   3   6  10  -4   21   2  27  2023     B   \n",
      "482     17º   5   6   1   2   3   4   9  -5   20   4  27  2023     B   \n",
      "483     18º   4   6   1   1   4   6   9  -3   14   1  22  2023     B   \n",
      "484     19º   3   6   1   0   5   3   7  -4   21   1  16  2023     B   \n",
      "485     20º   1   6   0   1   5   3  12  -9   14   1   5  2023     B   \n",
      "\n",
      "                 Time Estado  \n",
      "0          Fluminense     RJ  \n",
      "1    Atlético Mineiro     MG  \n",
      "2              Grêmio     RS  \n",
      "3           São Paulo     SP  \n",
      "4       Vasco da Gama     RJ  \n",
      "..                ...    ...  \n",
      "481    Sampaio Corrêa     MA  \n",
      "482       Ponte Preta     SP  \n",
      "483          Tombense     MG  \n",
      "484         Juventude     RS  \n",
      "485               Abc     RN  \n",
      "\n",
      "[480 rows x 16 columns]\n"
     ]
    }
   ],
   "source": [
    "print(df)"
   ]
  },
  {
   "cell_type": "markdown",
   "id": "f0b7050f",
   "metadata": {},
   "source": [
    "##### Ordenando o DataFrame por ano e série"
   ]
  },
  {
   "cell_type": "code",
   "execution_count": 14,
   "id": "69d6fd6b",
   "metadata": {},
   "outputs": [],
   "source": [
    "df.sort_values(by=['Ano', 'Serie'], inplace=True)"
   ]
  },
  {
   "cell_type": "markdown",
   "id": "8b6056af",
   "metadata": {},
   "source": [
    "##### Criando uma coluna para indicar em qual série o time estava no ano anterior"
   ]
  },
  {
   "cell_type": "code",
   "execution_count": 15,
   "id": "1c802662",
   "metadata": {},
   "outputs": [],
   "source": [
    "df['Serie_Anterior'] = df.groupby('Time')['Serie'].shift(1)"
   ]
  },
  {
   "cell_type": "markdown",
   "id": "e35807a5",
   "metadata": {},
   "source": [
    "##### Criando uma lista com todos os anos em que há dados"
   ]
  },
  {
   "cell_type": "code",
   "execution_count": 16,
   "id": "a8b63d5f",
   "metadata": {},
   "outputs": [],
   "source": [
    "anos = df['Ano'].unique()"
   ]
  },
  {
   "cell_type": "markdown",
   "id": "72b81aec",
   "metadata": {},
   "source": [
    "##### Verificando se um time aparece no ano anterior"
   ]
  },
  {
   "cell_type": "code",
   "execution_count": 17,
   "id": "28dbb4ad",
   "metadata": {},
   "outputs": [],
   "source": [
    "for i, ano in enumerate(anos):\n",
    "    if i == 0:\n",
    "        continue \n",
    "    ano_anterior = anos[i - 1]\n",
    "    for time in df['Time'].unique():\n",
    "        if (time in df[df['Ano'] == ano_anterior]['Time'].unique()):\n",
    "            df.loc[(df['Ano'] == ano) & (df['Time'] == time), 'Serie_Anterior'] = \\\n",
    "            df.loc[(df['Ano'] == ano_anterior) & (df['Time'] == time), 'Serie'].values[0]\n",
    "        else:\n",
    "            df.loc[(df['Ano'] == ano) & (df['Time'] == time), 'Serie_Anterior'] = 'C'\n",
    "\n",
    "        if (df.loc[(df['Ano'] == ano) & (df['Time'] == time), 'Serie'] == 'A').all() and \\\n",
    "        (df.loc[(df['Ano'] == ano) & (df['Time'] == time), 'Serie_Anterior'] == 'C').all():\n",
    "            df.loc[(df['Ano'] == ano) & (df['Time'] == time), 'Serie_Anterior'] = 'B'"
   ]
  },
  {
   "cell_type": "markdown",
   "id": "661d7056",
   "metadata": {},
   "source": [
    "Esse codigo primeiro pula primeiro Ano e logo após começa a verificar se o time estava na Serie A, B ou C no Ano Anterior. \n",
    "Fiz isso para criar uma variável Binária de Pesos baseado em qual Série o time estava no Ano Anterior."
   ]
  },
  {
   "cell_type": "markdown",
   "id": "a11b9adf",
   "metadata": {},
   "source": [
    "##### Definindo os pesos de acordo com a série do ano anterior"
   ]
  },
  {
   "cell_type": "code",
   "execution_count": 18,
   "id": "bb4c55f5",
   "metadata": {},
   "outputs": [],
   "source": [
    "df.loc[df['Serie_Anterior'] == 'A', 'Peso'] = 1.0\n",
    "df.loc[df['Serie_Anterior'] == 'B', 'Peso'] = 0.7\n",
    "df.loc[df['Serie_Anterior'] == 'C', 'Peso'] = 0.5"
   ]
  },
  {
   "cell_type": "markdown",
   "id": "c0697f65",
   "metadata": {},
   "source": [
    "##### Removendo o Primeiro Ano do Dataset"
   ]
  },
  {
   "cell_type": "code",
   "execution_count": 19,
   "id": "f2a14f03",
   "metadata": {},
   "outputs": [],
   "source": [
    "df = df[df['Ano'] != 2012]"
   ]
  },
  {
   "cell_type": "markdown",
   "id": "8f96f41a",
   "metadata": {},
   "source": [
    "Removi os Dados Relativos ao Ano de 2012 pelo fato deles estarem Desbalanceados"
   ]
  },
  {
   "cell_type": "markdown",
   "id": "ac4a8c73",
   "metadata": {},
   "source": [
    "##### Setando a Ordem das Colunas"
   ]
  },
  {
   "cell_type": "code",
   "execution_count": 20,
   "id": "418c924b",
   "metadata": {},
   "outputs": [],
   "source": [
    "df=df.reindex(columns=['Posição', 'Time', 'PTS','Estado', 'J', 'V', 'E', 'D', 'GP', 'GC', 'SG', 'CA', 'CV', '%', 'Ano','Serie','Serie_Anterior','Peso'])"
   ]
  },
  {
   "cell_type": "code",
   "execution_count": 21,
   "id": "e220c3cc",
   "metadata": {},
   "outputs": [
    {
     "name": "stdout",
     "output_type": "stream",
     "text": [
      "    Posição                  Time PTS Estado   J   V   E   D  GP  GC  SG  CA  \\\n",
      "20       1º              Cruzeiro  76     MG  38  23   7   8  77  37  40  73   \n",
      "21       2º                Grêmio  65     RS  38  18  11   9  42  35   7  79   \n",
      "22       3º  Athletico Paranaense  64     PR  38  18  10  10  65  49  16  92   \n",
      "23       4º              Botafogo  61     RJ  38  17  10  11  55  41  14  82   \n",
      "24       5º               Vitória  59     BA  38  16  11  11  59  53   6  67   \n",
      "..      ...                   ...  ..    ...  ..  ..  ..  ..  ..  ..  ..  ..   \n",
      "481     16º        Sampaio Corrêa   5     MA   6   1   2   3   6  10  -4  21   \n",
      "482     17º           Ponte Preta   5     SP   6   1   2   3   4   9  -5  20   \n",
      "483     18º              Tombense   4     MG   6   1   1   4   6   9  -3  14   \n",
      "484     19º             Juventude   3     RS   6   1   0   5   3   7  -4  21   \n",
      "485     20º                   Abc   1     RN   6   0   1   5   3  12  -9  14   \n",
      "\n",
      "    CV   %   Ano Serie Serie_Anterior  Peso  \n",
      "20   4  66  2013     A              A   1.0  \n",
      "21   6  57  2013     A              A   1.0  \n",
      "22   5  56  2013     A              B   0.7  \n",
      "23   3  53  2013     A              A   1.0  \n",
      "24   1  51  2013     A              B   0.7  \n",
      "..  ..  ..   ...   ...            ...   ...  \n",
      "481  2  27  2023     B              B   0.7  \n",
      "482  4  27  2023     B              B   0.7  \n",
      "483  1  22  2023     B              B   0.7  \n",
      "484  1  16  2023     B              A   1.0  \n",
      "485  1   5  2023     B              C   0.5  \n",
      "\n",
      "[440 rows x 18 columns]\n"
     ]
    }
   ],
   "source": [
    "print(df)"
   ]
  },
  {
   "cell_type": "markdown",
   "id": "d1d371b3",
   "metadata": {},
   "source": [
    "##### Criando um CSV com os Dados obtidos"
   ]
  },
  {
   "cell_type": "code",
   "execution_count": 22,
   "id": "0fcbbda9",
   "metadata": {},
   "outputs": [],
   "source": [
    "df.to_csv('brasileirao.csv', index=False)"
   ]
  }
 ],
 "metadata": {
  "kernelspec": {
   "display_name": "Python 3 (ipykernel)",
   "language": "python",
   "name": "python3"
  },
  "language_info": {
   "codemirror_mode": {
    "name": "ipython",
    "version": 3
   },
   "file_extension": ".py",
   "mimetype": "text/x-python",
   "name": "python",
   "nbconvert_exporter": "python",
   "pygments_lexer": "ipython3",
   "version": "3.9.16"
  }
 },
 "nbformat": 4,
 "nbformat_minor": 5
}
